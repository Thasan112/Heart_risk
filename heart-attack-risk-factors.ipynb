{
 "cells": [
  {
   "cell_type": "code",
   "execution_count": 1,
   "id": "b7140480",
   "metadata": {
    "_cell_guid": "b1076dfc-b9ad-4769-8c92-a6c4dae69d19",
    "_uuid": "8f2839f25d086af736a60e9eeb907d3b93b6e0e5",
    "execution": {
     "iopub.execute_input": "2024-08-23T10:39:06.450958Z",
     "iopub.status.busy": "2024-08-23T10:39:06.450455Z",
     "iopub.status.idle": "2024-08-23T10:39:07.460795Z",
     "shell.execute_reply": "2024-08-23T10:39:07.459318Z"
    },
    "papermill": {
     "duration": 1.019615,
     "end_time": "2024-08-23T10:39:07.463899",
     "exception": false,
     "start_time": "2024-08-23T10:39:06.444284",
     "status": "completed"
    },
    "tags": []
   },
   "outputs": [
    {
     "name": "stdout",
     "output_type": "stream",
     "text": [
      "/kaggle/input/heart-attack-dataset/heart_attack_dataset.csv\n"
     ]
    }
   ],
   "source": [
    "# This Python 3 environment comes with many helpful analytics libraries installed\n",
    "# It is defined by the kaggle/python Docker image: https://github.com/kaggle/docker-python\n",
    "# For example, here's several helpful packages to load\n",
    "\n",
    "import numpy as np # linear algebra\n",
    "import pandas as pd # data processing, CSV file I/O (e.g. pd.read_csv)\n",
    "\n",
    "# Input data files are available in the read-only \"../input/\" directory\n",
    "# For example, running this (by clicking run or pressing Shift+Enter) will list all files under the input directory\n",
    "\n",
    "import os\n",
    "for dirname, _, filenames in os.walk('/kaggle/input'):\n",
    "    for filename in filenames:\n",
    "        print(os.path.join(dirname, filename))\n",
    "\n",
    "# You can write up to 20GB to the current directory (/kaggle/working/) that gets preserved as output when you create a version using \"Save & Run All\" \n",
    "# You can also write temporary files to /kaggle/temp/, but they won't be saved outside of the current session"
   ]
  },
  {
   "cell_type": "code",
   "execution_count": 2,
   "id": "39fdd560",
   "metadata": {
    "execution": {
     "iopub.execute_input": "2024-08-23T10:39:07.473993Z",
     "iopub.status.busy": "2024-08-23T10:39:07.473442Z",
     "iopub.status.idle": "2024-08-23T10:39:07.513503Z",
     "shell.execute_reply": "2024-08-23T10:39:07.512008Z"
    },
    "papermill": {
     "duration": 0.048522,
     "end_time": "2024-08-23T10:39:07.516710",
     "exception": false,
     "start_time": "2024-08-23T10:39:07.468188",
     "status": "completed"
    },
    "tags": []
   },
   "outputs": [
    {
     "data": {
      "text/plain": [
       "(   Gender  Age  Blood Pressure (mmHg)  Cholesterol (mg/dL) Has Diabetes  \\\n",
       " 0    Male   70                    181                  262           No   \n",
       " 1  Female   55                    103                  253          Yes   \n",
       " 2    Male   42                     95                  295          Yes   \n",
       " 3    Male   84                    106                  270           No   \n",
       " 4    Male   86                    187                  296          Yes   \n",
       " \n",
       "   Smoking Status   Chest Pain Type                            Treatment  \n",
       " 0          Never    Typical Angina                    Lifestyle Changes  \n",
       " 1          Never   Atypical Angina                          Angioplasty  \n",
       " 2        Current    Typical Angina                          Angioplasty  \n",
       " 3          Never   Atypical Angina  Coronary Artery Bypass Graft (CABG)  \n",
       " 4        Current  Non-anginal Pain                           Medication  ,\n",
       " Index(['Gender', 'Age', 'Blood Pressure (mmHg)', 'Cholesterol (mg/dL)',\n",
       "        'Has Diabetes', 'Smoking Status', 'Chest Pain Type', 'Treatment'],\n",
       "       dtype='object'))"
      ]
     },
     "execution_count": 2,
     "metadata": {},
     "output_type": "execute_result"
    }
   ],
   "source": [
    "import pandas as pd\n",
    "file_path = '/kaggle/input/heart-attack-dataset/heart_attack_dataset.csv'\n",
    "df = pd.read_csv(file_path)\n",
    "# Show the \n",
    "df.head(), df.columns"
   ]
  },
  {
   "cell_type": "code",
   "execution_count": 3,
   "id": "80ab3f84",
   "metadata": {
    "execution": {
     "iopub.execute_input": "2024-08-23T10:39:07.528473Z",
     "iopub.status.busy": "2024-08-23T10:39:07.528092Z",
     "iopub.status.idle": "2024-08-23T10:39:07.552250Z",
     "shell.execute_reply": "2024-08-23T10:39:07.550788Z"
    },
    "papermill": {
     "duration": 0.033275,
     "end_time": "2024-08-23T10:39:07.555295",
     "exception": false,
     "start_time": "2024-08-23T10:39:07.522020",
     "status": "completed"
    },
    "tags": []
   },
   "outputs": [
    {
     "name": "stdout",
     "output_type": "stream",
     "text": [
      "<class 'pandas.core.frame.DataFrame'>\n",
      "RangeIndex: 1000 entries, 0 to 999\n",
      "Data columns (total 8 columns):\n",
      " #   Column                 Non-Null Count  Dtype \n",
      "---  ------                 --------------  ----- \n",
      " 0   Gender                 1000 non-null   object\n",
      " 1   Age                    1000 non-null   int64 \n",
      " 2   Blood Pressure (mmHg)  1000 non-null   int64 \n",
      " 3   Cholesterol (mg/dL)    1000 non-null   int64 \n",
      " 4   Has Diabetes           1000 non-null   object\n",
      " 5   Smoking Status         1000 non-null   object\n",
      " 6   Chest Pain Type        1000 non-null   object\n",
      " 7   Treatment              1000 non-null   object\n",
      "dtypes: int64(3), object(5)\n",
      "memory usage: 62.6+ KB\n"
     ]
    }
   ],
   "source": [
    "# check for missing Values\n",
    "df.info()\n"
   ]
  },
  {
   "cell_type": "code",
   "execution_count": 4,
   "id": "9fe411c3",
   "metadata": {
    "execution": {
     "iopub.execute_input": "2024-08-23T10:39:07.566854Z",
     "iopub.status.busy": "2024-08-23T10:39:07.565724Z",
     "iopub.status.idle": "2024-08-23T10:39:07.592576Z",
     "shell.execute_reply": "2024-08-23T10:39:07.591557Z"
    },
    "papermill": {
     "duration": 0.035144,
     "end_time": "2024-08-23T10:39:07.595093",
     "exception": false,
     "start_time": "2024-08-23T10:39:07.559949",
     "status": "completed"
    },
    "tags": []
   },
   "outputs": [
    {
     "data": {
      "text/html": [
       "<div>\n",
       "<style scoped>\n",
       "    .dataframe tbody tr th:only-of-type {\n",
       "        vertical-align: middle;\n",
       "    }\n",
       "\n",
       "    .dataframe tbody tr th {\n",
       "        vertical-align: top;\n",
       "    }\n",
       "\n",
       "    .dataframe thead th {\n",
       "        text-align: right;\n",
       "    }\n",
       "</style>\n",
       "<table border=\"1\" class=\"dataframe\">\n",
       "  <thead>\n",
       "    <tr style=\"text-align: right;\">\n",
       "      <th></th>\n",
       "      <th>Age</th>\n",
       "      <th>Blood Pressure (mmHg)</th>\n",
       "      <th>Cholesterol (mg/dL)</th>\n",
       "    </tr>\n",
       "  </thead>\n",
       "  <tbody>\n",
       "    <tr>\n",
       "      <th>count</th>\n",
       "      <td>1000.000000</td>\n",
       "      <td>1000.000000</td>\n",
       "      <td>1000.000000</td>\n",
       "    </tr>\n",
       "    <tr>\n",
       "      <th>mean</th>\n",
       "      <td>60.338000</td>\n",
       "      <td>145.440000</td>\n",
       "      <td>223.789000</td>\n",
       "    </tr>\n",
       "    <tr>\n",
       "      <th>std</th>\n",
       "      <td>17.317496</td>\n",
       "      <td>31.756525</td>\n",
       "      <td>42.787817</td>\n",
       "    </tr>\n",
       "    <tr>\n",
       "      <th>min</th>\n",
       "      <td>30.000000</td>\n",
       "      <td>90.000000</td>\n",
       "      <td>150.000000</td>\n",
       "    </tr>\n",
       "    <tr>\n",
       "      <th>25%</th>\n",
       "      <td>45.000000</td>\n",
       "      <td>118.000000</td>\n",
       "      <td>185.000000</td>\n",
       "    </tr>\n",
       "    <tr>\n",
       "      <th>50%</th>\n",
       "      <td>60.500000</td>\n",
       "      <td>146.000000</td>\n",
       "      <td>225.500000</td>\n",
       "    </tr>\n",
       "    <tr>\n",
       "      <th>75%</th>\n",
       "      <td>76.000000</td>\n",
       "      <td>173.000000</td>\n",
       "      <td>259.000000</td>\n",
       "    </tr>\n",
       "    <tr>\n",
       "      <th>max</th>\n",
       "      <td>89.000000</td>\n",
       "      <td>199.000000</td>\n",
       "      <td>299.000000</td>\n",
       "    </tr>\n",
       "  </tbody>\n",
       "</table>\n",
       "</div>"
      ],
      "text/plain": [
       "               Age  Blood Pressure (mmHg)  Cholesterol (mg/dL)\n",
       "count  1000.000000            1000.000000          1000.000000\n",
       "mean     60.338000             145.440000           223.789000\n",
       "std      17.317496              31.756525            42.787817\n",
       "min      30.000000              90.000000           150.000000\n",
       "25%      45.000000             118.000000           185.000000\n",
       "50%      60.500000             146.000000           225.500000\n",
       "75%      76.000000             173.000000           259.000000\n",
       "max      89.000000             199.000000           299.000000"
      ]
     },
     "execution_count": 4,
     "metadata": {},
     "output_type": "execute_result"
    }
   ],
   "source": [
    "# Summary of the dataset\n",
    "df.describe()"
   ]
  },
  {
   "cell_type": "code",
   "execution_count": 5,
   "id": "9b9e425e",
   "metadata": {
    "execution": {
     "iopub.execute_input": "2024-08-23T10:39:07.606323Z",
     "iopub.status.busy": "2024-08-23T10:39:07.605950Z",
     "iopub.status.idle": "2024-08-23T10:39:07.614022Z",
     "shell.execute_reply": "2024-08-23T10:39:07.612704Z"
    },
    "papermill": {
     "duration": 0.01658,
     "end_time": "2024-08-23T10:39:07.616627",
     "exception": false,
     "start_time": "2024-08-23T10:39:07.600047",
     "status": "completed"
    },
    "tags": []
   },
   "outputs": [],
   "source": [
    "# Missing Vakues\n",
    "#Handle missing values if necessary\n",
    "\n",
    "df = df.fillna(df.mean(numeric_only=True))"
   ]
  },
  {
   "cell_type": "code",
   "execution_count": 6,
   "id": "20bb3981",
   "metadata": {
    "execution": {
     "iopub.execute_input": "2024-08-23T10:39:07.627647Z",
     "iopub.status.busy": "2024-08-23T10:39:07.627243Z",
     "iopub.status.idle": "2024-08-23T10:39:07.637638Z",
     "shell.execute_reply": "2024-08-23T10:39:07.636388Z"
    },
    "papermill": {
     "duration": 0.018833,
     "end_time": "2024-08-23T10:39:07.640176",
     "exception": false,
     "start_time": "2024-08-23T10:39:07.621343",
     "status": "completed"
    },
    "tags": []
   },
   "outputs": [
    {
     "data": {
      "text/plain": [
       "Gender                   0\n",
       "Age                      0\n",
       "Blood Pressure (mmHg)    0\n",
       "Cholesterol (mg/dL)      0\n",
       "Has Diabetes             0\n",
       "Smoking Status           0\n",
       "Chest Pain Type          0\n",
       "Treatment                0\n",
       "dtype: int64"
      ]
     },
     "execution_count": 6,
     "metadata": {},
     "output_type": "execute_result"
    }
   ],
   "source": [
    "#Verify no missing value remaining\n",
    "df.isnull().sum()\n"
   ]
  },
  {
   "cell_type": "code",
   "execution_count": 7,
   "id": "9d4b1d88",
   "metadata": {
    "execution": {
     "iopub.execute_input": "2024-08-23T10:39:07.651625Z",
     "iopub.status.busy": "2024-08-23T10:39:07.651236Z",
     "iopub.status.idle": "2024-08-23T10:39:07.674061Z",
     "shell.execute_reply": "2024-08-23T10:39:07.672834Z"
    },
    "papermill": {
     "duration": 0.031819,
     "end_time": "2024-08-23T10:39:07.676895",
     "exception": false,
     "start_time": "2024-08-23T10:39:07.645076",
     "status": "completed"
    },
    "tags": []
   },
   "outputs": [
    {
     "data": {
      "text/html": [
       "<div>\n",
       "<style scoped>\n",
       "    .dataframe tbody tr th:only-of-type {\n",
       "        vertical-align: middle;\n",
       "    }\n",
       "\n",
       "    .dataframe tbody tr th {\n",
       "        vertical-align: top;\n",
       "    }\n",
       "\n",
       "    .dataframe thead th {\n",
       "        text-align: right;\n",
       "    }\n",
       "</style>\n",
       "<table border=\"1\" class=\"dataframe\">\n",
       "  <thead>\n",
       "    <tr style=\"text-align: right;\">\n",
       "      <th></th>\n",
       "      <th>Gender</th>\n",
       "      <th>Age</th>\n",
       "      <th>Blood Pressure (mmHg)</th>\n",
       "      <th>Cholesterol (mg/dL)</th>\n",
       "      <th>Has Diabetes</th>\n",
       "      <th>Smoking Status</th>\n",
       "      <th>Chest Pain Type</th>\n",
       "      <th>Treatment</th>\n",
       "    </tr>\n",
       "  </thead>\n",
       "  <tbody>\n",
       "    <tr>\n",
       "      <th>0</th>\n",
       "      <td>1</td>\n",
       "      <td>70</td>\n",
       "      <td>181</td>\n",
       "      <td>262</td>\n",
       "      <td>0</td>\n",
       "      <td>NaN</td>\n",
       "      <td>3</td>\n",
       "      <td>Lifestyle Changes</td>\n",
       "    </tr>\n",
       "    <tr>\n",
       "      <th>1</th>\n",
       "      <td>0</td>\n",
       "      <td>55</td>\n",
       "      <td>103</td>\n",
       "      <td>253</td>\n",
       "      <td>1</td>\n",
       "      <td>NaN</td>\n",
       "      <td>1</td>\n",
       "      <td>Angioplasty</td>\n",
       "    </tr>\n",
       "    <tr>\n",
       "      <th>2</th>\n",
       "      <td>1</td>\n",
       "      <td>42</td>\n",
       "      <td>95</td>\n",
       "      <td>295</td>\n",
       "      <td>1</td>\n",
       "      <td>NaN</td>\n",
       "      <td>3</td>\n",
       "      <td>Angioplasty</td>\n",
       "    </tr>\n",
       "    <tr>\n",
       "      <th>3</th>\n",
       "      <td>1</td>\n",
       "      <td>84</td>\n",
       "      <td>106</td>\n",
       "      <td>270</td>\n",
       "      <td>0</td>\n",
       "      <td>NaN</td>\n",
       "      <td>1</td>\n",
       "      <td>Coronary Artery Bypass Graft (CABG)</td>\n",
       "    </tr>\n",
       "    <tr>\n",
       "      <th>4</th>\n",
       "      <td>1</td>\n",
       "      <td>86</td>\n",
       "      <td>187</td>\n",
       "      <td>296</td>\n",
       "      <td>1</td>\n",
       "      <td>NaN</td>\n",
       "      <td>2</td>\n",
       "      <td>Medication</td>\n",
       "    </tr>\n",
       "  </tbody>\n",
       "</table>\n",
       "</div>"
      ],
      "text/plain": [
       "   Gender  Age  Blood Pressure (mmHg)  Cholesterol (mg/dL)  Has Diabetes  \\\n",
       "0       1   70                    181                  262             0   \n",
       "1       0   55                    103                  253             1   \n",
       "2       1   42                     95                  295             1   \n",
       "3       1   84                    106                  270             0   \n",
       "4       1   86                    187                  296             1   \n",
       "\n",
       "   Smoking Status  Chest Pain Type                            Treatment  \n",
       "0             NaN                3                    Lifestyle Changes  \n",
       "1             NaN                1                          Angioplasty  \n",
       "2             NaN                3                          Angioplasty  \n",
       "3             NaN                1  Coronary Artery Bypass Graft (CABG)  \n",
       "4             NaN                2                           Medication  "
      ]
     },
     "execution_count": 7,
     "metadata": {},
     "output_type": "execute_result"
    }
   ],
   "source": [
    "# Convert categorical columns to numeric\n",
    "df['Gender'] = df['Gender'].map({'Male': 1, 'Female': 0})\n",
    "df['Has Diabetes'] = df['Has Diabetes'].map({'Yes': 1, 'No': 0})\n",
    "df['Smoking Status'] = df['Smoking Status'].map({'Smoker': 1, 'Non-Smoker': 0})\n",
    "df['Chest Pain Type'] = df['Chest Pain Type'].astype('category').cat.codes\n",
    "\n",
    "# Check the updated dataframe\n",
    "df.head()"
   ]
  },
  {
   "cell_type": "code",
   "execution_count": 8,
   "id": "d5b04973",
   "metadata": {
    "execution": {
     "iopub.execute_input": "2024-08-23T10:39:07.689825Z",
     "iopub.status.busy": "2024-08-23T10:39:07.688697Z",
     "iopub.status.idle": "2024-08-23T10:39:09.793004Z",
     "shell.execute_reply": "2024-08-23T10:39:09.791693Z"
    },
    "papermill": {
     "duration": 2.113534,
     "end_time": "2024-08-23T10:39:09.795740",
     "exception": false,
     "start_time": "2024-08-23T10:39:07.682206",
     "status": "completed"
    },
    "tags": []
   },
   "outputs": [
    {
     "name": "stderr",
     "output_type": "stream",
     "text": [
      "/opt/conda/lib/python3.10/site-packages/seaborn/_oldcore.py:1119: FutureWarning: use_inf_as_na option is deprecated and will be removed in a future version. Convert inf values to NaN before operating instead.\n",
      "  with pd.option_context('mode.use_inf_as_na', True):\n"
     ]
    },
    {
     "data": {
      "image/png": "[encoded data removed]",
      "text/plain": [
       "<Figure size 1000x600 with 1 Axes>"
      ]
     },
     "metadata": {},
     "output_type": "display_data"
    }
   ],
   "source": [
    "# Matplotlib for  graphs\n",
    "\n",
    "import matplotlib.pyplot as plt\n",
    "\n",
    "import seaborn as sns\n",
    "\n",
    "# Set the aesthetic style of the plots\n",
    "sns.set(style=\"whitegrid\")\n",
    "\n",
    "# Distribution of Age\n",
    "plt.figure(figsize=(10, 6))\n",
    "sns.histplot(df['Age'], kde=True, color='blue')\n",
    "plt.title('Distribution of Age')\n",
    "plt.xlabel('Age')\n",
    "plt.ylabel('Frequency')\n",
    "plt.show()\n",
    "\n"
   ]
  }
 ],
 "metadata": {
  "kaggle": {
   "accelerator": "none",
   "dataSources": [
    {
     "datasetId": 5503260,
     "sourceId": 9117154,
     "sourceType": "datasetVersion"
    }
   ],
   "dockerImageVersionId": 30746,
   "isGpuEnabled": false,
   "isInternetEnabled": false,
   "language": "python",
   "sourceType": "notebook"
  },
  "kernelspec": {
   "display_name": "Python 3",
   "language": "python",
   "name": "python3"
  },
  "language_info": {
   "codemirror_mode": {
    "name": "ipython",
    "version": 3
   },
   "file_extension": ".py",
   "mimetype": "text/x-python",
   "name": "python",
   "nbconvert_exporter": "python",
   "pygments_lexer": "ipython3",
   "version": "3.10.13"
  },
  "papermill": {
   "default_parameters": {},
   "duration": 7.631182,
   "end_time": "2024-08-23T10:39:10.425273",
   "environment_variables": {},
   "exception": null,
   "input_path": "__notebook__.ipynb",
   "output_path": "__notebook__.ipynb",
   "parameters": {},
   "start_time": "2024-08-23T10:39:02.794091",
   "version": "2.5.0"
  }
 },
 "nbformat": 4,
 "nbformat_minor": 5
}
