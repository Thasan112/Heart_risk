{
 "cells": [
  {
   "cell_type": "code",
   "execution_count": 1,
   "id": "29aefd5a",
   "metadata": {
    "_cell_guid": "b1076dfc-b9ad-4769-8c92-a6c4dae69d19",
    "_uuid": "8f2839f25d086af736a60e9eeb907d3b93b6e0e5",
    "execution": {
     "iopub.execute_input": "2024-08-26T09:42:04.356688Z",
     "iopub.status.busy": "2024-08-26T09:42:04.355787Z",
     "iopub.status.idle": "2024-08-26T09:42:07.502094Z",
     "shell.execute_reply": "2024-08-26T09:42:07.500674Z"
    },
    "papermill": {
     "duration": 3.157784,
     "end_time": "2024-08-26T09:42:07.504675",
     "exception": false,
     "start_time": "2024-08-26T09:42:04.346891",
     "status": "completed"
    },
    "tags": []
   },
   "outputs": [
    {
     "name": "stdout",
     "output_type": "stream",
     "text": [
      "/kaggle/input/heart-attack-dataset/heart_attack_dataset.csv\n"
     ]
    }
   ],
   "source": [
    "# This Python 3 environment comes with many helpful analytics libraries installed\n",
    "# It is defined by the kaggle/python Docker image: https://github.com/kaggle/docker-python\n",
    "# For example, here's several helpful packages to load\n",
    "\n",
    "import pandas as pd\n",
    "import numpy as np\n",
    "import seaborn as sns\n",
    "import matplotlib.pyplot as plt\n",
    "from sklearn.model_selection import train_test_split\n",
    "from sklearn.preprocessing import LabelEncoder\n",
    "from sklearn.ensemble import RandomForestClassifier\n",
    "from sklearn.metrics import accuracy_score, confusion_matrix, classification_report\n",
    "\n",
    "# Input data files are available in the read-only \"../input/\" directory\n",
    "# For example, running this (by clicking run or pressing Shift+Enter) will list all files under the input directory\n",
    "\n",
    "import os\n",
    "for dirname, _, filenames in os.walk('/kaggle/input'):\n",
    "    for filename in filenames:\n",
    "        print(os.path.join(dirname, filename))\n",
    "\n",
    "# You can write up to 20GB to the current directory (/kaggle/working/) that gets preserved as output when you create a version using \"Save & Run All\" \n",
    "# You can also write temporary files to /kaggle/temp/, but they won't be saved outside of the current session"
   ]
  },
  {
   "cell_type": "code",
   "execution_count": 2,
   "id": "fb907bf9",
   "metadata": {
    "execution": {
     "iopub.execute_input": "2024-08-26T09:42:07.520782Z",
     "iopub.status.busy": "2024-08-26T09:42:07.519018Z",
     "iopub.status.idle": "2024-08-26T09:42:07.570193Z",
     "shell.execute_reply": "2024-08-26T09:42:07.568437Z"
    },
    "papermill": {
     "duration": 0.062863,
     "end_time": "2024-08-26T09:42:07.574208",
     "exception": false,
     "start_time": "2024-08-26T09:42:07.511345",
     "status": "completed"
    },
    "tags": []
   },
   "outputs": [
    {
     "data": {
      "text/html": [
       "<div>\n",
       "<style scoped>\n",
       "    .dataframe tbody tr th:only-of-type {\n",
       "        vertical-align: middle;\n",
       "    }\n",
       "\n",
       "    .dataframe tbody tr th {\n",
       "        vertical-align: top;\n",
       "    }\n",
       "\n",
       "    .dataframe thead th {\n",
       "        text-align: right;\n",
       "    }\n",
       "</style>\n",
       "<table border=\"1\" class=\"dataframe\">\n",
       "  <thead>\n",
       "    <tr style=\"text-align: right;\">\n",
       "      <th></th>\n",
       "      <th>Gender</th>\n",
       "      <th>Age</th>\n",
       "      <th>Blood Pressure (mmHg)</th>\n",
       "      <th>Cholesterol (mg/dL)</th>\n",
       "      <th>Has Diabetes</th>\n",
       "      <th>Smoking Status</th>\n",
       "      <th>Chest Pain Type</th>\n",
       "      <th>Treatment</th>\n",
       "    </tr>\n",
       "  </thead>\n",
       "  <tbody>\n",
       "    <tr>\n",
       "      <th>0</th>\n",
       "      <td>Male</td>\n",
       "      <td>70</td>\n",
       "      <td>181</td>\n",
       "      <td>262</td>\n",
       "      <td>No</td>\n",
       "      <td>Never</td>\n",
       "      <td>Typical Angina</td>\n",
       "      <td>Lifestyle Changes</td>\n",
       "    </tr>\n",
       "    <tr>\n",
       "      <th>1</th>\n",
       "      <td>Female</td>\n",
       "      <td>55</td>\n",
       "      <td>103</td>\n",
       "      <td>253</td>\n",
       "      <td>Yes</td>\n",
       "      <td>Never</td>\n",
       "      <td>Atypical Angina</td>\n",
       "      <td>Angioplasty</td>\n",
       "    </tr>\n",
       "    <tr>\n",
       "      <th>2</th>\n",
       "      <td>Male</td>\n",
       "      <td>42</td>\n",
       "      <td>95</td>\n",
       "      <td>295</td>\n",
       "      <td>Yes</td>\n",
       "      <td>Current</td>\n",
       "      <td>Typical Angina</td>\n",
       "      <td>Angioplasty</td>\n",
       "    </tr>\n",
       "    <tr>\n",
       "      <th>3</th>\n",
       "      <td>Male</td>\n",
       "      <td>84</td>\n",
       "      <td>106</td>\n",
       "      <td>270</td>\n",
       "      <td>No</td>\n",
       "      <td>Never</td>\n",
       "      <td>Atypical Angina</td>\n",
       "      <td>Coronary Artery Bypass Graft (CABG)</td>\n",
       "    </tr>\n",
       "    <tr>\n",
       "      <th>4</th>\n",
       "      <td>Male</td>\n",
       "      <td>86</td>\n",
       "      <td>187</td>\n",
       "      <td>296</td>\n",
       "      <td>Yes</td>\n",
       "      <td>Current</td>\n",
       "      <td>Non-anginal Pain</td>\n",
       "      <td>Medication</td>\n",
       "    </tr>\n",
       "  </tbody>\n",
       "</table>\n",
       "</div>"
      ],
      "text/plain": [
       "   Gender  Age  Blood Pressure (mmHg)  Cholesterol (mg/dL) Has Diabetes  \\\n",
       "0    Male   70                    181                  262           No   \n",
       "1  Female   55                    103                  253          Yes   \n",
       "2    Male   42                     95                  295          Yes   \n",
       "3    Male   84                    106                  270           No   \n",
       "4    Male   86                    187                  296          Yes   \n",
       "\n",
       "  Smoking Status   Chest Pain Type                            Treatment  \n",
       "0          Never    Typical Angina                    Lifestyle Changes  \n",
       "1          Never   Atypical Angina                          Angioplasty  \n",
       "2        Current    Typical Angina                          Angioplasty  \n",
       "3          Never   Atypical Angina  Coronary Artery Bypass Graft (CABG)  \n",
       "4        Current  Non-anginal Pain                           Medication  "
      ]
     },
     "execution_count": 2,
     "metadata": {},
     "output_type": "execute_result"
    }
   ],
   "source": [
    "import pandas as pd\n",
    "file_path = '/kaggle/input/heart-attack-dataset/heart_attack_dataset.csv'\n",
    "df = pd.read_csv(file_path)\n",
    "# Show the coloumns\n",
    "df.head()"
   ]
  },
  {
   "cell_type": "code",
   "execution_count": 3,
   "id": "43bfe433",
   "metadata": {
    "execution": {
     "iopub.execute_input": "2024-08-26T09:42:07.596992Z",
     "iopub.status.busy": "2024-08-26T09:42:07.596414Z",
     "iopub.status.idle": "2024-08-26T09:42:07.631230Z",
     "shell.execute_reply": "2024-08-26T09:42:07.629966Z"
    },
    "papermill": {
     "duration": 0.049113,
     "end_time": "2024-08-26T09:42:07.634167",
     "exception": false,
     "start_time": "2024-08-26T09:42:07.585054",
     "status": "completed"
    },
    "tags": []
   },
   "outputs": [
    {
     "name": "stdout",
     "output_type": "stream",
     "text": [
      "<class 'pandas.core.frame.DataFrame'>\n",
      "RangeIndex: 1000 entries, 0 to 999\n",
      "Data columns (total 8 columns):\n",
      " #   Column                 Non-Null Count  Dtype \n",
      "---  ------                 --------------  ----- \n",
      " 0   Gender                 1000 non-null   object\n",
      " 1   Age                    1000 non-null   int64 \n",
      " 2   Blood Pressure (mmHg)  1000 non-null   int64 \n",
      " 3   Cholesterol (mg/dL)    1000 non-null   int64 \n",
      " 4   Has Diabetes           1000 non-null   object\n",
      " 5   Smoking Status         1000 non-null   object\n",
      " 6   Chest Pain Type        1000 non-null   object\n",
      " 7   Treatment              1000 non-null   object\n",
      "dtypes: int64(3), object(5)\n",
      "memory usage: 62.6+ KB\n"
     ]
    }
   ],
   "source": [
    "# Display basic information about the dataset\n",
    "df.info()\n"
   ]
  },
  {
   "cell_type": "code",
   "execution_count": 4,
   "id": "1aed62e9",
   "metadata": {
    "execution": {
     "iopub.execute_input": "2024-08-26T09:42:07.649776Z",
     "iopub.status.busy": "2024-08-26T09:42:07.649347Z",
     "iopub.status.idle": "2024-08-26T09:42:07.677092Z",
     "shell.execute_reply": "2024-08-26T09:42:07.675747Z"
    },
    "papermill": {
     "duration": 0.038887,
     "end_time": "2024-08-26T09:42:07.679959",
     "exception": false,
     "start_time": "2024-08-26T09:42:07.641072",
     "status": "completed"
    },
    "tags": []
   },
   "outputs": [
    {
     "data": {
      "text/html": [
       "<div>\n",
       "<style scoped>\n",
       "    .dataframe tbody tr th:only-of-type {\n",
       "        vertical-align: middle;\n",
       "    }\n",
       "\n",
       "    .dataframe tbody tr th {\n",
       "        vertical-align: top;\n",
       "    }\n",
       "\n",
       "    .dataframe thead th {\n",
       "        text-align: right;\n",
       "    }\n",
       "</style>\n",
       "<table border=\"1\" class=\"dataframe\">\n",
       "  <thead>\n",
       "    <tr style=\"text-align: right;\">\n",
       "      <th></th>\n",
       "      <th>Age</th>\n",
       "      <th>Blood Pressure (mmHg)</th>\n",
       "      <th>Cholesterol (mg/dL)</th>\n",
       "    </tr>\n",
       "  </thead>\n",
       "  <tbody>\n",
       "    <tr>\n",
       "      <th>count</th>\n",
       "      <td>1000.000000</td>\n",
       "      <td>1000.000000</td>\n",
       "      <td>1000.000000</td>\n",
       "    </tr>\n",
       "    <tr>\n",
       "      <th>mean</th>\n",
       "      <td>60.338000</td>\n",
       "      <td>145.440000</td>\n",
       "      <td>223.789000</td>\n",
       "    </tr>\n",
       "    <tr>\n",
       "      <th>std</th>\n",
       "      <td>17.317496</td>\n",
       "      <td>31.756525</td>\n",
       "      <td>42.787817</td>\n",
       "    </tr>\n",
       "    <tr>\n",
       "      <th>min</th>\n",
       "      <td>30.000000</td>\n",
       "      <td>90.000000</td>\n",
       "      <td>150.000000</td>\n",
       "    </tr>\n",
       "    <tr>\n",
       "      <th>25%</th>\n",
       "      <td>45.000000</td>\n",
       "      <td>118.000000</td>\n",
       "      <td>185.000000</td>\n",
       "    </tr>\n",
       "    <tr>\n",
       "      <th>50%</th>\n",
       "      <td>60.500000</td>\n",
       "      <td>146.000000</td>\n",
       "      <td>225.500000</td>\n",
       "    </tr>\n",
       "    <tr>\n",
       "      <th>75%</th>\n",
       "      <td>76.000000</td>\n",
       "      <td>173.000000</td>\n",
       "      <td>259.000000</td>\n",
       "    </tr>\n",
       "    <tr>\n",
       "      <th>max</th>\n",
       "      <td>89.000000</td>\n",
       "      <td>199.000000</td>\n",
       "      <td>299.000000</td>\n",
       "    </tr>\n",
       "  </tbody>\n",
       "</table>\n",
       "</div>"
      ],
      "text/plain": [
       "               Age  Blood Pressure (mmHg)  Cholesterol (mg/dL)\n",
       "count  1000.000000            1000.000000          1000.000000\n",
       "mean     60.338000             145.440000           223.789000\n",
       "std      17.317496              31.756525            42.787817\n",
       "min      30.000000              90.000000           150.000000\n",
       "25%      45.000000             118.000000           185.000000\n",
       "50%      60.500000             146.000000           225.500000\n",
       "75%      76.000000             173.000000           259.000000\n",
       "max      89.000000             199.000000           299.000000"
      ]
     },
     "execution_count": 4,
     "metadata": {},
     "output_type": "execute_result"
    }
   ],
   "source": [
    "# describe basic statistics of data\n",
    "df.describe()"
   ]
  },
  {
   "cell_type": "markdown",
   "id": "4f8ae83f",
   "metadata": {
    "papermill": {
     "duration": 0.010234,
     "end_time": "2024-08-26T09:42:07.698489",
     "exception": false,
     "start_time": "2024-08-26T09:42:07.688255",
     "status": "completed"
    },
    "tags": []
   },
   "source": [
    "# Data Cleaning"
   ]
  },
  {
   "cell_type": "code",
   "execution_count": 5,
   "id": "c93e1164",
   "metadata": {
    "execution": {
     "iopub.execute_input": "2024-08-26T09:42:07.719074Z",
     "iopub.status.busy": "2024-08-26T09:42:07.718166Z",
     "iopub.status.idle": "2024-08-26T09:42:07.731618Z",
     "shell.execute_reply": "2024-08-26T09:42:07.728492Z"
    },
    "papermill": {
     "duration": 0.02769,
     "end_time": "2024-08-26T09:42:07.735471",
     "exception": false,
     "start_time": "2024-08-26T09:42:07.707781",
     "status": "completed"
    },
    "tags": []
   },
   "outputs": [
    {
     "data": {
      "text/plain": [
       "Gender                   0\n",
       "Age                      0\n",
       "Blood Pressure (mmHg)    0\n",
       "Cholesterol (mg/dL)      0\n",
       "Has Diabetes             0\n",
       "Smoking Status           0\n",
       "Chest Pain Type          0\n",
       "Treatment                0\n",
       "dtype: int64"
      ]
     },
     "execution_count": 5,
     "metadata": {},
     "output_type": "execute_result"
    }
   ],
   "source": [
    "df.isnull().sum()"
   ]
  },
  {
   "cell_type": "code",
   "execution_count": 6,
   "id": "1514c6f8",
   "metadata": {
    "execution": {
     "iopub.execute_input": "2024-08-26T09:42:07.756218Z",
     "iopub.status.busy": "2024-08-26T09:42:07.755851Z",
     "iopub.status.idle": "2024-08-26T09:42:07.761049Z",
     "shell.execute_reply": "2024-08-26T09:42:07.759699Z"
    },
    "papermill": {
     "duration": 0.017352,
     "end_time": "2024-08-26T09:42:07.763695",
     "exception": false,
     "start_time": "2024-08-26T09:42:07.746343",
     "status": "completed"
    },
    "tags": []
   },
   "outputs": [],
   "source": [
    "# Handle missing values if any (in this case, there are none)\n",
    "# df.fillna(method='ffill', inplace=True)"
   ]
  },
  {
   "cell_type": "markdown",
   "id": "3ee4fc39",
   "metadata": {
    "papermill": {
     "duration": 0.007268,
     "end_time": "2024-08-26T09:42:07.778657",
     "exception": false,
     "start_time": "2024-08-26T09:42:07.771389",
     "status": "completed"
    },
    "tags": []
   },
   "source": [
    "# Exploratory Data Analysis"
   ]
  },
  {
   "cell_type": "code",
   "execution_count": 7,
   "id": "8df4a25d",
   "metadata": {
    "execution": {
     "iopub.execute_input": "2024-08-26T09:42:07.797016Z",
     "iopub.status.busy": "2024-08-26T09:42:07.796613Z",
     "iopub.status.idle": "2024-08-26T09:42:08.286847Z",
     "shell.execute_reply": "2024-08-26T09:42:08.285629Z"
    },
    "papermill": {
     "duration": 0.503098,
     "end_time": "2024-08-26T09:42:08.289654",
     "exception": false,
     "start_time": "2024-08-26T09:42:07.786556",
     "status": "completed"
    },
    "tags": []
   },
   "outputs": [
    {
     "name": "stderr",
     "output_type": "stream",
     "text": [
      "/opt/conda/lib/python3.10/site-packages/seaborn/_oldcore.py:1119: FutureWarning: use_inf_as_na option is deprecated and will be removed in a future version. Convert inf values to NaN before operating instead.\n",
      "  with pd.option_context('mode.use_inf_as_na', True):\n"
     ]
    },
    {
     "data": {
      "image/png": "[encoded data removed]",
      "text/plain": [
       "<Figure size 1000x600 with 1 Axes>"
      ]
     },
     "metadata": {},
     "output_type": "display_data"
    }
   ],
   "source": [
    "# Distribution of Age\n",
    "plt.figure(figsize=(10, 6))\n",
    "sns.histplot(df['Age'], kde=True, bins=30)\n",
    "plt.title('Age Distribution')\n",
    "plt.xlabel('Age')\n",
    "plt.ylabel('Frequency')\n",
    "plt.show()"
   ]
  },
  {
   "cell_type": "code",
   "execution_count": 8,
   "id": "4b6b7586",
   "metadata": {
    "execution": {
     "iopub.execute_input": "2024-08-26T09:42:08.310114Z",
     "iopub.status.busy": "2024-08-26T09:42:08.309717Z",
     "iopub.status.idle": "2024-08-26T09:42:08.566280Z",
     "shell.execute_reply": "2024-08-26T09:42:08.565121Z"
    },
    "papermill": {
     "duration": 0.271016,
     "end_time": "2024-08-26T09:42:08.568849",
     "exception": false,
     "start_time": "2024-08-26T09:42:08.297833",
     "status": "completed"
    },
    "tags": []
   },
   "outputs": [
    {
     "data": {
      "image/png": "[encoded data removed]",
      "text/plain": [
       "<Figure size 1000x600 with 1 Axes>"
      ]
     },
     "metadata": {},
     "output_type": "display_data"
    }
   ],
   "source": [
    "# Gender distribution\n",
    "plt.figure(figsize=(10, 6))\n",
    "sns.countplot(x='Gender', data=df)\n",
    "plt.title('Gender Distribution')\n",
    "plt.xlabel('Gender')\n",
    "plt.ylabel('Count')\n",
    "plt.show()"
   ]
  },
  {
   "cell_type": "markdown",
   "id": "747e4f1e",
   "metadata": {
    "papermill": {
     "duration": 0.007888,
     "end_time": "2024-08-26T09:42:08.585037",
     "exception": false,
     "start_time": "2024-08-26T09:42:08.577149",
     "status": "completed"
    },
    "tags": []
   },
   "source": []
  },
  {
   "cell_type": "code",
   "execution_count": 9,
   "id": "efc87eca",
   "metadata": {
    "execution": {
     "iopub.execute_input": "2024-08-26T09:42:08.604807Z",
     "iopub.status.busy": "2024-08-26T09:42:08.604380Z",
     "iopub.status.idle": "2024-08-26T09:42:08.966054Z",
     "shell.execute_reply": "2024-08-26T09:42:08.964993Z"
    },
    "papermill": {
     "duration": 0.374021,
     "end_time": "2024-08-26T09:42:08.968679",
     "exception": false,
     "start_time": "2024-08-26T09:42:08.594658",
     "status": "completed"
    },
    "tags": []
   },
   "outputs": [
    {
     "data": {
      "image/png": "[encoded data removed]",
      "text/plain": [
       "<Figure size 1200x800 with 2 Axes>"
      ]
     },
     "metadata": {},
     "output_type": "display_data"
    }
   ],
   "source": [
    "# Correlation heatmap for numeric values\n",
    "numeric_df = df.select_dtypes(include=[np.number])\n",
    "plt.figure(figsize=(12, 8))\n",
    "sns.heatmap(numeric_df.corr(), annot=True, cmap='coolwarm')\n",
    "plt.title('Correlation Heatmap')\n",
    "plt.show()"
   ]
  },
  {
   "cell_type": "markdown",
   "id": "f9ca5b64",
   "metadata": {
    "papermill": {
     "duration": 0.009363,
     "end_time": "2024-08-26T09:42:08.987409",
     "exception": false,
     "start_time": "2024-08-26T09:42:08.978046",
     "status": "completed"
    },
    "tags": []
   },
   "source": []
  },
  {
   "cell_type": "markdown",
   "id": "9d08a137",
   "metadata": {
    "papermill": {
     "duration": 0.009496,
     "end_time": "2024-08-26T09:42:09.006015",
     "exception": false,
     "start_time": "2024-08-26T09:42:08.996519",
     "status": "completed"
    },
    "tags": []
   },
   "source": [
    "# Feature Encode"
   ]
  },
  {
   "cell_type": "code",
   "execution_count": 10,
   "id": "665bc49e",
   "metadata": {
    "execution": {
     "iopub.execute_input": "2024-08-26T09:42:09.025878Z",
     "iopub.status.busy": "2024-08-26T09:42:09.025494Z",
     "iopub.status.idle": "2024-08-26T09:42:09.044802Z",
     "shell.execute_reply": "2024-08-26T09:42:09.043652Z"
    },
    "papermill": {
     "duration": 0.032191,
     "end_time": "2024-08-26T09:42:09.047327",
     "exception": false,
     "start_time": "2024-08-26T09:42:09.015136",
     "status": "completed"
    },
    "tags": []
   },
   "outputs": [
    {
     "data": {
      "text/html": [
       "<div>\n",
       "<style scoped>\n",
       "    .dataframe tbody tr th:only-of-type {\n",
       "        vertical-align: middle;\n",
       "    }\n",
       "\n",
       "    .dataframe tbody tr th {\n",
       "        vertical-align: top;\n",
       "    }\n",
       "\n",
       "    .dataframe thead th {\n",
       "        text-align: right;\n",
       "    }\n",
       "</style>\n",
       "<table border=\"1\" class=\"dataframe\">\n",
       "  <thead>\n",
       "    <tr style=\"text-align: right;\">\n",
       "      <th></th>\n",
       "      <th>Gender</th>\n",
       "      <th>Age</th>\n",
       "      <th>Blood Pressure (mmHg)</th>\n",
       "      <th>Cholesterol (mg/dL)</th>\n",
       "      <th>Has Diabetes</th>\n",
       "      <th>Smoking Status</th>\n",
       "      <th>Chest Pain Type</th>\n",
       "      <th>Treatment</th>\n",
       "    </tr>\n",
       "  </thead>\n",
       "  <tbody>\n",
       "    <tr>\n",
       "      <th>0</th>\n",
       "      <td>1</td>\n",
       "      <td>70</td>\n",
       "      <td>181</td>\n",
       "      <td>262</td>\n",
       "      <td>0</td>\n",
       "      <td>2</td>\n",
       "      <td>3</td>\n",
       "      <td>2</td>\n",
       "    </tr>\n",
       "    <tr>\n",
       "      <th>1</th>\n",
       "      <td>0</td>\n",
       "      <td>55</td>\n",
       "      <td>103</td>\n",
       "      <td>253</td>\n",
       "      <td>1</td>\n",
       "      <td>2</td>\n",
       "      <td>1</td>\n",
       "      <td>0</td>\n",
       "    </tr>\n",
       "    <tr>\n",
       "      <th>2</th>\n",
       "      <td>1</td>\n",
       "      <td>42</td>\n",
       "      <td>95</td>\n",
       "      <td>295</td>\n",
       "      <td>1</td>\n",
       "      <td>0</td>\n",
       "      <td>3</td>\n",
       "      <td>0</td>\n",
       "    </tr>\n",
       "    <tr>\n",
       "      <th>3</th>\n",
       "      <td>1</td>\n",
       "      <td>84</td>\n",
       "      <td>106</td>\n",
       "      <td>270</td>\n",
       "      <td>0</td>\n",
       "      <td>2</td>\n",
       "      <td>1</td>\n",
       "      <td>1</td>\n",
       "    </tr>\n",
       "    <tr>\n",
       "      <th>4</th>\n",
       "      <td>1</td>\n",
       "      <td>86</td>\n",
       "      <td>187</td>\n",
       "      <td>296</td>\n",
       "      <td>1</td>\n",
       "      <td>0</td>\n",
       "      <td>2</td>\n",
       "      <td>3</td>\n",
       "    </tr>\n",
       "  </tbody>\n",
       "</table>\n",
       "</div>"
      ],
      "text/plain": [
       "   Gender  Age  Blood Pressure (mmHg)  Cholesterol (mg/dL)  Has Diabetes  \\\n",
       "0       1   70                    181                  262             0   \n",
       "1       0   55                    103                  253             1   \n",
       "2       1   42                     95                  295             1   \n",
       "3       1   84                    106                  270             0   \n",
       "4       1   86                    187                  296             1   \n",
       "\n",
       "   Smoking Status  Chest Pain Type  Treatment  \n",
       "0               2                3          2  \n",
       "1               2                1          0  \n",
       "2               0                3          0  \n",
       "3               2                1          1  \n",
       "4               0                2          3  "
      ]
     },
     "execution_count": 10,
     "metadata": {},
     "output_type": "execute_result"
    }
   ],
   "source": [
    "# Encode categorical variables\n",
    "label_encoders = {}\n",
    "for column in df.select_dtypes(include=['object']).columns:\n",
    "    le = LabelEncoder()\n",
    "    df[column] = le.fit_transform(df[column])\n",
    "    label_encoders[column] = le\n",
    "df.head()"
   ]
  },
  {
   "cell_type": "markdown",
   "id": "7aaa6f40",
   "metadata": {
    "papermill": {
     "duration": 0.008968,
     "end_time": "2024-08-26T09:42:09.065721",
     "exception": false,
     "start_time": "2024-08-26T09:42:09.056753",
     "status": "completed"
    },
    "tags": []
   },
   "source": []
  },
  {
   "cell_type": "markdown",
   "id": "c31d46e6",
   "metadata": {
    "papermill": {
     "duration": 0.009628,
     "end_time": "2024-08-26T09:42:09.084532",
     "exception": false,
     "start_time": "2024-08-26T09:42:09.074904",
     "status": "completed"
    },
    "tags": []
   },
   "source": [
    "# Prediction Model"
   ]
  },
  {
   "cell_type": "code",
   "execution_count": 11,
   "id": "1e0694c7",
   "metadata": {
    "execution": {
     "iopub.execute_input": "2024-08-26T09:42:09.105650Z",
     "iopub.status.busy": "2024-08-26T09:42:09.105203Z",
     "iopub.status.idle": "2024-08-26T09:42:09.456437Z",
     "shell.execute_reply": "2024-08-26T09:42:09.455145Z"
    },
    "papermill": {
     "duration": 0.364954,
     "end_time": "2024-08-26T09:42:09.458952",
     "exception": false,
     "start_time": "2024-08-26T09:42:09.093998",
     "status": "completed"
    },
    "tags": []
   },
   "outputs": [
    {
     "data": {
      "text/plain": [
       "(0.2733333333333333,\n",
       " array([[17, 12, 27, 13],\n",
       "        [20, 24, 19, 12],\n",
       "        [18, 28, 23,  9],\n",
       "        [17, 21, 22, 18]]),\n",
       " '              precision    recall  f1-score   support\\n\\n           0       0.24      0.25      0.24        69\\n           1       0.28      0.32      0.30        75\\n           2       0.25      0.29      0.27        78\\n           3       0.35      0.23      0.28        78\\n\\n    accuracy                           0.27       300\\n   macro avg       0.28      0.27      0.27       300\\nweighted avg       0.28      0.27      0.27       300\\n')"
      ]
     },
     "execution_count": 11,
     "metadata": {},
     "output_type": "execute_result"
    }
   ],
   "source": [
    "# Define features and target variable\n",
    "X = df.drop('Treatment', axis=1)\n",
    "y = df['Treatment']\n",
    "\n",
    "# Split the data into training and testing sets.\n",
    "#The data is split into training (70%) and testing (30%) sets using train_test_split. The random_state=42 ensures the split is reproducible.\n",
    "X_train, X_test, y_train, y_test = train_test_split(X, y, test_size=0.3, random_state=42)\n",
    "\n",
    "# Initialize and train the model\n",
    "#A Random Forest model is initialized with a fixed random state for consistency.\n",
    "#The model is trained (fitted) using the training data (X_train, y_train).\n",
    "model = RandomForestClassifier(random_state=42)\n",
    "model.fit(X_train, y_train)\n",
    "\n",
    "# Make predictions on X_test\n",
    "y_pred = model.predict(X_test)\n",
    "\n",
    "# Evaluate the model\n",
    "#accuracy: The overall accuracy of the model is calculated, which is the ratio of correctly predicted observations to the total observations.\n",
    "#conf_matrix: The confusion matrix is generated to show the counts of true positives, false positives, true negatives, and false negatives.\n",
    "#class_report: A classification report is generated, including metrics like precision, recall, and F1-score for each class.\n",
    "\n",
    "accuracy = accuracy_score(y_test, y_pred)\n",
    "conf_matrix = confusion_matrix(y_test, y_pred)\n",
    "class_report = classification_report(y_test, y_pred)\n",
    "\n",
    "accuracy, conf_matrix, class_report"
   ]
  },
  {
   "cell_type": "code",
   "execution_count": 12,
   "id": "2d5de775",
   "metadata": {
    "execution": {
     "iopub.execute_input": "2024-08-26T09:42:09.479578Z",
     "iopub.status.busy": "2024-08-26T09:42:09.479128Z",
     "iopub.status.idle": "2024-08-26T09:42:09.484281Z",
     "shell.execute_reply": "2024-08-26T09:42:09.483096Z"
    },
    "papermill": {
     "duration": 0.01853,
     "end_time": "2024-08-26T09:42:09.486842",
     "exception": false,
     "start_time": "2024-08-26T09:42:09.468312",
     "status": "completed"
    },
    "tags": []
   },
   "outputs": [],
   "source": [
    "#Explored a dataset related to heart attacks, performed data cleaning, and built a prediction model for treatment types. The model's accuracy and other evaluation metrics provide insights into its performance.\n",
    "#The accuracy of around 27% indicates that the model is performing poorly. \n",
    "#The Random Forest model might require tuning (e.g., adjusting hyperparameters) to improve performance."
   ]
  }
 ],
 "metadata": {
  "kaggle": {
   "accelerator": "none",
   "dataSources": [
    {
     "datasetId": 5503260,
     "sourceId": 9117154,
     "sourceType": "datasetVersion"
    }
   ],
   "dockerImageVersionId": 30746,
   "isGpuEnabled": false,
   "isInternetEnabled": false,
   "language": "python",
   "sourceType": "notebook"
  },
  "kernelspec": {
   "display_name": "Python 3",
   "language": "python",
   "name": "python3"
  },
  "language_info": {
   "codemirror_mode": {
    "name": "ipython",
    "version": 3
   },
   "file_extension": ".py",
   "mimetype": "text/x-python",
   "name": "python",
   "nbconvert_exporter": "python",
   "pygments_lexer": "ipython3",
   "version": "3.10.13"
  },
  "papermill": {
   "default_parameters": {},
   "duration": 9.460857,
   "end_time": "2024-08-26T09:42:10.118559",
   "environment_variables": {},
   "exception": null,
   "input_path": "__notebook__.ipynb",
   "output_path": "__notebook__.ipynb",
   "parameters": {},
   "start_time": "2024-08-26T09:42:00.657702",
   "version": "2.5.0"
  }
 },
 "nbformat": 4,
 "nbformat_minor": 5
}
